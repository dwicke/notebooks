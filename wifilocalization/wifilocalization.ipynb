{
  "nbformat": 4,
  "nbformat_minor": 0,
  "metadata": {
    "colab": {
      "name": "wifilocalization.ipynb",
      "version": "0.3.2",
      "views": {},
      "default_view": {},
      "provenance": [],
      "collapsed_sections": []
    },
    "kernelspec": {
      "name": "python3",
      "display_name": "Python 3"
    }
  },
  "cells": [
    {
      "metadata": {
        "id": "V7zqmuFBzH2x",
        "colab_type": "code",
        "colab": {
          "autoexec": {
            "startup": false,
            "wait_interval": 0
          },
          "output_extras": [
            {
              "item_id": 1
            }
          ],
          "base_uri": "https://localhost:8080/",
          "height": 35
        },
        "outputId": "d3cee29f-4a92-40ce-e162-fda3be63659e",
        "executionInfo": {
          "status": "ok",
          "timestamp": 1518556949371,
          "user_tz": 300,
          "elapsed": 5480,
          "user": {
            "displayName": "Drew Wicke",
            "photoUrl": "//lh3.googleusercontent.com/-RMWS66RT7QY/AAAAAAAAAAI/AAAAAAAAA1M/SsUil6F7DOY/s50-c-k-no/photo.jpg",
            "userId": "108097971441173177746"
          }
        }
      },
      "cell_type": "code",
      "source": [
        "!pip install -q keras\n",
        "import keras"
      ],
      "execution_count": 3,
      "outputs": [
        {
          "output_type": "stream",
          "text": [
            "Using TensorFlow backend.\n"
          ],
          "name": "stderr"
        }
      ]
    },
    {
      "metadata": {
        "id": "73XjdQlk1oOa",
        "colab_type": "text"
      },
      "cell_type": "markdown",
      "source": [
        "This is a dataset of predicting the room based on the signal strength of wifi from 7 different access points.  I'm going to play around with Keras and sk-learn to see how things go.\n",
        "\n",
        "The paper that introduces this dataset uses 10-fold cross validation on there NN and gets a 95.16% accuracy.  I get 96.5% accuracy on my NN and I get 98.5% test accuracy from holding out 20% of the data for validation and using 80% to do 10-fold hyperparameter tuning of Gradient Boost.  \n",
        "\n",
        "My approach is significantly easier and can be done using standard python machine learning toolkits.\n",
        "\n",
        "paper: https://link-springer-com.mutex.gmu.edu/content/pdf/10.1007%2F978-981-10-3322-3_27.pdf\n",
        "\n",
        "dataset on UCI: https://archive.ics.uci.edu/ml/datasets/Wireless+Indoor+Localization"
      ]
    },
    {
      "metadata": {
        "id": "pqUQZm96zOE7",
        "colab_type": "code",
        "colab": {
          "autoexec": {
            "startup": false,
            "wait_interval": 0
          }
        }
      },
      "cell_type": "code",
      "source": [
        "import pandas as pd\n",
        "from sklearn.model_selection import train_test_split \n",
        "\n",
        "# load the data\n",
        "url = 'http://archive.ics.uci.edu/ml/machine-learning-databases/00422/wifi_localization.txt'\n",
        "data = pd.read_table(url, header= None, names=['1', '2', '3', '4', '5', '6', '7'], index_col=7)\n",
        "\n",
        "# now get the data into a format for keras\n",
        "\n",
        "# first seperate the input from the labels\n",
        "X = data.iloc[:, 0:7].values\n",
        "Y = data.index.values\n",
        "\n",
        "# now do one hot\n",
        "y = keras.utils.to_categorical(Y - 1)\n",
        "\n",
        "# now split into train and test sets\n",
        "\n",
        "X_train, X_test, y_train, y_test = train_test_split(X, y, test_size = 0.2, random_state = 42)\n"
      ],
      "execution_count": 0,
      "outputs": []
    },
    {
      "metadata": {
        "id": "fRnhh2_Y5ZQT",
        "colab_type": "text"
      },
      "cell_type": "markdown",
      "source": [
        "Now build the neural network! Going to do a 2 hidden layer network with 5 neurons in each"
      ]
    },
    {
      "metadata": {
        "id": "08lJYm8T2Gg9",
        "colab_type": "code",
        "colab": {
          "autoexec": {
            "startup": false,
            "wait_interval": 0
          }
        }
      },
      "cell_type": "code",
      "source": [
        "from keras import Sequential\n",
        "from keras.layers import Dense\n",
        "\n",
        "classifier = Sequential()\n",
        "\n",
        "# first do the input layer to the hidden (network is like 7 - 5 - 5 - 4)\n",
        "classifier.add(Dense(units = 5, activation = 'relu', kernel_initializer = 'uniform',input_dim=7))\n",
        "classifier.add(Dense(units = 5, activation = 'relu', kernel_initializer = 'uniform'))\n",
        "classifier.add(Dense(units = 4, activation = 'softmax', kernel_initializer = 'uniform'))\n",
        "\n",
        "classifier.compile(optimizer = 'adam', loss = 'categorical_crossentropy', metrics = ['accuracy'])\n"
      ],
      "execution_count": 0,
      "outputs": []
    },
    {
      "metadata": {
        "id": "F8MctZX351EN",
        "colab_type": "code",
        "colab": {
          "autoexec": {
            "startup": false,
            "wait_interval": 0
          },
          "output_extras": [
            {
              "item_id": 19
            },
            {
              "item_id": 28
            },
            {
              "item_id": 33
            },
            {
              "item_id": 38
            },
            {
              "item_id": 43
            },
            {
              "item_id": 48
            },
            {
              "item_id": 49
            }
          ],
          "base_uri": "https://localhost:8080/",
          "height": 3635
        },
        "outputId": "ff1e893f-8104-42bc-eaf6-2d4a73036edf",
        "executionInfo": {
          "status": "ok",
          "timestamp": 1518314675209,
          "user_tz": 300,
          "elapsed": 26076,
          "user": {
            "displayName": "Drew Wicke",
            "photoUrl": "//lh3.googleusercontent.com/-RMWS66RT7QY/AAAAAAAAAAI/AAAAAAAAA1M/SsUil6F7DOY/s50-c-k-no/photo.jpg",
            "userId": "108097971441173177746"
          }
        }
      },
      "cell_type": "code",
      "source": [
        "classifier.fit(X_train, y_train, batch_size = 10, epochs = 100)\n",
        "#y_train"
      ],
      "execution_count": 93,
      "outputs": [
        {
          "output_type": "stream",
          "text": [
            "Epoch 1/100\n",
            "1600/1600 [==============================] - 0s 178us/step - loss: 0.3874 - acc: 0.8756\n",
            "Epoch 2/100\n",
            "1600/1600 [==============================] - 0s 213us/step - loss: 0.3777 - acc: 0.8806\n",
            "Epoch 3/100\n",
            "1600/1600 [==============================] - 0s 192us/step - loss: 0.3742 - acc: 0.8881\n",
            "Epoch 4/100\n",
            "1600/1600 [==============================] - 0s 185us/step - loss: 0.3756 - acc: 0.8944\n",
            "Epoch 5/100\n",
            "1600/1600 [==============================] - 0s 185us/step - loss: 0.3709 - acc: 0.8906\n",
            "Epoch 6/100\n",
            "1600/1600 [==============================] - 0s 184us/step - loss: 0.3715 - acc: 0.8806\n",
            "Epoch 7/100\n",
            "1600/1600 [==============================] - 0s 180us/step - loss: 0.3673 - acc: 0.8837\n",
            "Epoch 8/100\n",
            "1600/1600 [==============================] - 0s 182us/step - loss: 0.3753 - acc: 0.8837\n",
            "Epoch 9/100\n",
            "1600/1600 [==============================] - 0s 177us/step - loss: 0.3685 - acc: 0.8875\n",
            "Epoch 10/100\n",
            "1600/1600 [==============================] - 0s 158us/step - loss: 0.3674 - acc: 0.8906\n",
            "Epoch 11/100\n",
            "1600/1600 [==============================] - 0s 158us/step - loss: 0.3669 - acc: 0.8875\n",
            "Epoch 12/100\n",
            "1600/1600 [==============================] - 0s 155us/step - loss: 0.3620 - acc: 0.8850\n",
            "Epoch 13/100\n",
            "1600/1600 [==============================] - 0s 156us/step - loss: 0.3542 - acc: 0.8994\n",
            "Epoch 14/100\n",
            "1600/1600 [==============================] - 0s 156us/step - loss: 0.3527 - acc: 0.8962\n",
            "Epoch 15/100\n",
            "1600/1600 [==============================] - 0s 157us/step - loss: 0.3595 - acc: 0.8950\n",
            "Epoch 16/100\n",
            "1600/1600 [==============================] - 0s 153us/step - loss: 0.3595 - acc: 0.8925\n",
            "Epoch 17/100\n",
            "1600/1600 [==============================] - 0s 152us/step - loss: 0.3494 - acc: 0.9000\n"
          ],
          "name": "stdout"
        },
        {
          "output_type": "stream",
          "text": [
            "Epoch 18/100\n",
            "1600/1600 [==============================] - 0s 160us/step - loss: 0.3524 - acc: 0.8900\n",
            "Epoch 19/100\n",
            "1600/1600 [==============================] - 0s 152us/step - loss: 0.3505 - acc: 0.8931\n",
            "Epoch 20/100\n",
            "1600/1600 [==============================] - 0s 149us/step - loss: 0.3629 - acc: 0.8862\n",
            "Epoch 21/100\n",
            "1600/1600 [==============================] - 0s 153us/step - loss: 0.3478 - acc: 0.8869\n",
            "Epoch 22/100\n",
            "1600/1600 [==============================] - 0s 153us/step - loss: 0.3465 - acc: 0.8962\n",
            "Epoch 23/100\n",
            "1600/1600 [==============================] - 0s 156us/step - loss: 0.3596 - acc: 0.8856\n",
            "Epoch 24/100\n",
            "1600/1600 [==============================] - 0s 155us/step - loss: 0.3404 - acc: 0.8987\n",
            "Epoch 25/100\n",
            "1600/1600 [==============================] - 0s 154us/step - loss: 0.3471 - acc: 0.8925\n",
            "Epoch 26/100\n",
            "1600/1600 [==============================] - 0s 167us/step - loss: 0.3445 - acc: 0.8906\n",
            "Epoch 27/100\n",
            "1600/1600 [==============================] - 0s 156us/step - loss: 0.3548 - acc: 0.8875\n",
            "Epoch 28/100\n",
            "1600/1600 [==============================] - 0s 151us/step - loss: 0.3411 - acc: 0.8887\n",
            "Epoch 29/100\n",
            "1600/1600 [==============================] - 0s 156us/step - loss: 0.3516 - acc: 0.8887\n",
            "Epoch 30/100\n",
            "1600/1600 [==============================] - 0s 158us/step - loss: 0.3363 - acc: 0.8912\n",
            "Epoch 31/100\n",
            "1600/1600 [==============================] - 0s 157us/step - loss: 0.3370 - acc: 0.8881\n",
            "Epoch 32/100\n",
            "1600/1600 [==============================] - 0s 151us/step - loss: 0.3413 - acc: 0.8975\n",
            "Epoch 33/100\n",
            "1600/1600 [==============================] - 0s 157us/step - loss: 0.3320 - acc: 0.8969\n",
            "Epoch 34/100\n",
            "1600/1600 [==============================] - 0s 159us/step - loss: 0.3412 - acc: 0.8912\n"
          ],
          "name": "stdout"
        },
        {
          "output_type": "stream",
          "text": [
            "Epoch 35/100\n",
            "1600/1600 [==============================] - 0s 154us/step - loss: 0.3322 - acc: 0.8894\n",
            "Epoch 36/100\n",
            "1600/1600 [==============================] - 0s 161us/step - loss: 0.3438 - acc: 0.8794\n",
            "Epoch 37/100\n",
            "1600/1600 [==============================] - 0s 150us/step - loss: 0.3383 - acc: 0.8875\n",
            "Epoch 38/100\n",
            "1600/1600 [==============================] - 0s 156us/step - loss: 0.3321 - acc: 0.9037\n",
            "Epoch 39/100\n",
            "1600/1600 [==============================] - 0s 153us/step - loss: 0.3407 - acc: 0.8837\n",
            "Epoch 40/100\n",
            "1600/1600 [==============================] - 0s 155us/step - loss: 0.3393 - acc: 0.8900\n",
            "Epoch 41/100\n",
            "1600/1600 [==============================] - 0s 155us/step - loss: 0.3344 - acc: 0.8944\n",
            "Epoch 42/100\n",
            "1600/1600 [==============================] - 0s 167us/step - loss: 0.3329 - acc: 0.8981\n",
            "Epoch 43/100\n",
            "1600/1600 [==============================] - 0s 156us/step - loss: 0.3421 - acc: 0.8962\n",
            "Epoch 44/100\n",
            "1600/1600 [==============================] - 0s 154us/step - loss: 0.3375 - acc: 0.8900\n",
            "Epoch 45/100\n",
            "1600/1600 [==============================] - 0s 154us/step - loss: 0.3279 - acc: 0.8894\n",
            "Epoch 46/100\n",
            "1600/1600 [==============================] - 0s 155us/step - loss: 0.3310 - acc: 0.8937\n",
            "Epoch 47/100\n",
            "1600/1600 [==============================] - 0s 156us/step - loss: 0.3290 - acc: 0.8950\n",
            "Epoch 48/100\n",
            "1600/1600 [==============================] - 0s 153us/step - loss: 0.3237 - acc: 0.8950\n",
            "Epoch 49/100\n",
            "1600/1600 [==============================] - 0s 161us/step - loss: 0.3298 - acc: 0.8944\n",
            "Epoch 50/100\n",
            "1600/1600 [==============================] - 0s 159us/step - loss: 0.3354 - acc: 0.8925\n",
            "Epoch 51/100\n",
            "1400/1600 [=========================>....] - ETA: 0s - loss: 0.3318 - acc: 0.8964"
          ],
          "name": "stdout"
        },
        {
          "output_type": "stream",
          "text": [
            "1600/1600 [==============================] - 0s 152us/step - loss: 0.3293 - acc: 0.8956\n",
            "Epoch 52/100\n",
            "1600/1600 [==============================] - 0s 157us/step - loss: 0.3300 - acc: 0.8875\n",
            "Epoch 53/100\n",
            "1600/1600 [==============================] - 0s 156us/step - loss: 0.3340 - acc: 0.8869\n",
            "Epoch 54/100\n",
            "1600/1600 [==============================] - 0s 151us/step - loss: 0.3246 - acc: 0.8950\n",
            "Epoch 55/100\n",
            "1600/1600 [==============================] - 0s 153us/step - loss: 0.3279 - acc: 0.8900\n",
            "Epoch 56/100\n",
            "1600/1600 [==============================] - 0s 155us/step - loss: 0.3193 - acc: 0.8987\n",
            "Epoch 57/100\n",
            "1600/1600 [==============================] - 0s 174us/step - loss: 0.3212 - acc: 0.8994\n",
            "Epoch 58/100\n",
            "1600/1600 [==============================] - 0s 160us/step - loss: 0.3219 - acc: 0.9006\n",
            "Epoch 59/100\n",
            "1600/1600 [==============================] - 0s 159us/step - loss: 0.3170 - acc: 0.9006\n",
            "Epoch 60/100\n",
            "1600/1600 [==============================] - 0s 174us/step - loss: 0.3188 - acc: 0.8925\n",
            "Epoch 61/100\n",
            "1600/1600 [==============================] - 0s 153us/step - loss: 0.3242 - acc: 0.8975\n",
            "Epoch 62/100\n",
            "1600/1600 [==============================] - 0s 153us/step - loss: 0.3220 - acc: 0.8956\n",
            "Epoch 63/100\n",
            "1600/1600 [==============================] - 0s 157us/step - loss: 0.3159 - acc: 0.9025\n",
            "Epoch 64/100\n",
            "1600/1600 [==============================] - 0s 157us/step - loss: 0.3249 - acc: 0.8925\n",
            "Epoch 65/100\n",
            "1600/1600 [==============================] - 0s 159us/step - loss: 0.3110 - acc: 0.8994\n",
            "Epoch 66/100\n",
            "1600/1600 [==============================] - 0s 159us/step - loss: 0.3205 - acc: 0.8969\n",
            "Epoch 67/100\n",
            "1600/1600 [==============================] - 0s 160us/step - loss: 0.3306 - acc: 0.8819\n",
            "Epoch 68/100\n",
            "  10/1600 [..............................] - ETA: 0s - loss: 0.7135 - acc: 0.7000"
          ],
          "name": "stdout"
        },
        {
          "output_type": "stream",
          "text": [
            "1600/1600 [==============================] - 0s 162us/step - loss: 0.3178 - acc: 0.8981\n",
            "Epoch 69/100\n",
            "1600/1600 [==============================] - 0s 160us/step - loss: 0.3271 - acc: 0.8831\n",
            "Epoch 70/100\n",
            "1600/1600 [==============================] - 0s 157us/step - loss: 0.3141 - acc: 0.8987\n",
            "Epoch 71/100\n",
            "1600/1600 [==============================] - 0s 159us/step - loss: 0.3262 - acc: 0.8919\n",
            "Epoch 72/100\n",
            "1600/1600 [==============================] - 0s 159us/step - loss: 0.3176 - acc: 0.8944\n",
            "Epoch 73/100\n",
            "1600/1600 [==============================] - 0s 157us/step - loss: 0.3150 - acc: 0.8937\n",
            "Epoch 74/100\n",
            "1600/1600 [==============================] - 0s 160us/step - loss: 0.3130 - acc: 0.8931\n",
            "Epoch 75/100\n",
            "1600/1600 [==============================] - 0s 151us/step - loss: 0.3095 - acc: 0.9056\n",
            "Epoch 76/100\n",
            "1600/1600 [==============================] - 0s 157us/step - loss: 0.3135 - acc: 0.8956\n",
            "Epoch 77/100\n",
            "1600/1600 [==============================] - 0s 158us/step - loss: 0.3131 - acc: 0.8987\n",
            "Epoch 78/100\n",
            "1600/1600 [==============================] - 0s 167us/step - loss: 0.3170 - acc: 0.8912\n",
            "Epoch 79/100\n",
            "1600/1600 [==============================] - 0s 159us/step - loss: 0.3143 - acc: 0.8950\n",
            "Epoch 80/100\n",
            "1600/1600 [==============================] - 0s 163us/step - loss: 0.3124 - acc: 0.8962\n",
            "Epoch 81/100\n",
            "1600/1600 [==============================] - 0s 156us/step - loss: 0.3142 - acc: 0.8937\n",
            "Epoch 82/100\n",
            "1600/1600 [==============================] - 0s 165us/step - loss: 0.3123 - acc: 0.9025\n",
            "Epoch 83/100\n",
            "1600/1600 [==============================] - 0s 163us/step - loss: 0.3109 - acc: 0.9031\n",
            "Epoch 84/100\n",
            "1030/1600 [==================>...........] - ETA: 0s - loss: 0.3354 - acc: 0.8883"
          ],
          "name": "stdout"
        },
        {
          "output_type": "stream",
          "text": [
            "1600/1600 [==============================] - 0s 151us/step - loss: 0.3173 - acc: 0.8962\n",
            "Epoch 85/100\n",
            "1600/1600 [==============================] - 0s 158us/step - loss: 0.3146 - acc: 0.8931\n",
            "Epoch 86/100\n",
            "1600/1600 [==============================] - 0s 151us/step - loss: 0.3047 - acc: 0.9006\n",
            "Epoch 87/100\n",
            "1600/1600 [==============================] - 0s 156us/step - loss: 0.3178 - acc: 0.8937\n",
            "Epoch 88/100\n",
            "1600/1600 [==============================] - 0s 157us/step - loss: 0.3214 - acc: 0.8931\n",
            "Epoch 89/100\n",
            "1600/1600 [==============================] - 0s 154us/step - loss: 0.3090 - acc: 0.8931\n",
            "Epoch 90/100\n",
            "1600/1600 [==============================] - 0s 149us/step - loss: 0.3099 - acc: 0.8987\n",
            "Epoch 91/100\n",
            "1600/1600 [==============================] - 0s 153us/step - loss: 0.3095 - acc: 0.8969\n",
            "Epoch 92/100\n",
            "1600/1600 [==============================] - 0s 154us/step - loss: 0.3046 - acc: 0.9031\n",
            "Epoch 93/100\n",
            "1600/1600 [==============================] - 0s 167us/step - loss: 0.3126 - acc: 0.8931\n",
            "Epoch 94/100\n",
            "1600/1600 [==============================] - 0s 156us/step - loss: 0.3166 - acc: 0.8969\n",
            "Epoch 95/100\n",
            "1600/1600 [==============================] - 0s 154us/step - loss: 0.3080 - acc: 0.8981\n",
            "Epoch 96/100\n",
            "1600/1600 [==============================] - 0s 158us/step - loss: 0.3074 - acc: 0.8950\n",
            "Epoch 97/100\n",
            "1600/1600 [==============================] - 0s 153us/step - loss: 0.3006 - acc: 0.9031\n",
            "Epoch 98/100\n",
            "1600/1600 [==============================] - 0s 173us/step - loss: 0.3114 - acc: 0.8950\n",
            "Epoch 99/100\n",
            "1600/1600 [==============================] - 0s 156us/step - loss: 0.3112 - acc: 0.8925\n",
            "Epoch 100/100\n",
            "1600/1600 [==============================] - 0s 156us/step - loss: 0.3053 - acc: 0.9025\n"
          ],
          "name": "stdout"
        },
        {
          "output_type": "execute_result",
          "data": {
            "text/plain": [
              "<keras.callbacks.History at 0x7fd5969ed5f8>"
            ]
          },
          "metadata": {
            "tags": []
          },
          "execution_count": 93
        }
      ]
    },
    {
      "metadata": {
        "id": "S2ckg3cn7Ygy",
        "colab_type": "code",
        "colab": {
          "autoexec": {
            "startup": false,
            "wait_interval": 0
          },
          "output_extras": [
            {
              "item_id": 1
            },
            {
              "item_id": 2
            }
          ],
          "base_uri": "https://localhost:8080/",
          "height": 53
        },
        "outputId": "acc0a96b-7cf0-4d6a-cd3a-f83ae5d778a3",
        "executionInfo": {
          "status": "ok",
          "timestamp": 1518307422887,
          "user_tz": 300,
          "elapsed": 286,
          "user": {
            "displayName": "Drew Wicke",
            "photoUrl": "//lh3.googleusercontent.com/-RMWS66RT7QY/AAAAAAAAAAI/AAAAAAAAA1M/SsUil6F7DOY/s50-c-k-no/photo.jpg",
            "userId": "108097971441173177746"
          }
        }
      },
      "cell_type": "code",
      "source": [
        "score = classifier.evaluate(X_test, y_test, batch_size=10)\n",
        "score"
      ],
      "execution_count": 89,
      "outputs": [
        {
          "output_type": "stream",
          "text": [
            "400/400 [==============================] - 0s 256us/step\n"
          ],
          "name": "stdout"
        },
        {
          "output_type": "execute_result",
          "data": {
            "text/plain": [
              "[0.3884413711726665, 0.8774999931454659]"
            ]
          },
          "metadata": {
            "tags": []
          },
          "execution_count": 89
        }
      ]
    },
    {
      "metadata": {
        "id": "FpJSrRHv-xWi",
        "colab_type": "code",
        "colab": {
          "autoexec": {
            "startup": false,
            "wait_interval": 0
          },
          "output_extras": [
            {
              "item_id": 1
            }
          ],
          "base_uri": "https://localhost:8080/",
          "height": 89
        },
        "outputId": "69e4114a-091c-4fac-f147-b1ae0c8ea122",
        "executionInfo": {
          "status": "ok",
          "timestamp": 1518307424643,
          "user_tz": 300,
          "elapsed": 294,
          "user": {
            "displayName": "Drew Wicke",
            "photoUrl": "//lh3.googleusercontent.com/-RMWS66RT7QY/AAAAAAAAAAI/AAAAAAAAA1M/SsUil6F7DOY/s50-c-k-no/photo.jpg",
            "userId": "108097971441173177746"
          }
        }
      },
      "cell_type": "code",
      "source": [
        "# Predicting the Test set results\n",
        "y_pred = classifier.predict(X_test)\n",
        "\n",
        "#y_pred = (y_pred > 0.5)\n",
        "from sklearn import preprocessing\n",
        "\n",
        "lb = preprocessing.LabelBinarizer()\n",
        "lb.fit([1,2,3,4])\n",
        "y_pred = lb.inverse_transform(y_pred)\n",
        "y_testlb = lb.inverse_transform(y_test)\n",
        "\n",
        "# Making the Confusion Matrix\n",
        "from sklearn.metrics import confusion_matrix\n",
        "myCM = confusion_matrix(y_testlb, y_pred) \n",
        "myCM"
      ],
      "execution_count": 90,
      "outputs": [
        {
          "output_type": "execute_result",
          "data": {
            "text/plain": [
              "array([[ 76,   0,   5,  23],\n",
              "       [  0,  84,  11,   0],\n",
              "       [  8,   2,  78,   0],\n",
              "       [  0,   0,   0, 113]])"
            ]
          },
          "metadata": {
            "tags": []
          },
          "execution_count": 90
        }
      ]
    },
    {
      "metadata": {
        "id": "yRgDLfsHCict",
        "colab_type": "code",
        "colab": {
          "autoexec": {
            "startup": false,
            "wait_interval": 0
          }
        }
      },
      "cell_type": "code",
      "source": [
        "\n",
        "import matplotlib.pyplot as plt\n",
        "import numpy as np\n",
        "import itertools\n",
        "## taken from: http://scikit-learn.org/stable/auto_examples/model_selection/plot_confusion_matrix.html\n",
        "def plot_confusion_matrix(cm, classes,\n",
        "                          title='Confusion matrix',\n",
        "                          cmap=plt.cm.jet):\n",
        "    \"\"\"\n",
        "    This function prints and plots the confusion matrix.\n",
        "    \"\"\"\n",
        "    cm = cm.astype('float') / cm.sum(axis=1)[:, np.newaxis]\n",
        "    plt.imshow(cm, interpolation='nearest', cmap=cmap)\n",
        "    plt.title(title)\n",
        "    plt.colorbar()\n",
        "    tick_marks = np.arange(len(classes))\n",
        "    plt.xticks(tick_marks, classes, rotation=45)\n",
        "    plt.yticks(tick_marks, classes)\n",
        "\n",
        "    thresh = cm.max() / 2.\n",
        "    for i, j in itertools.product(range(cm.shape[0]), range(cm.shape[1])):\n",
        "        plt.text(j, i, '{:.2f}'.format(cm[i, j]), horizontalalignment=\"center\",\n",
        "                 color=\"white\" if cm[i, j] > thresh else \"yellow\")\n",
        "    plt.tight_layout()\n",
        "    plt.ylabel('True label')\n",
        "    plt.xlabel('Predicted label')"
      ],
      "execution_count": 0,
      "outputs": []
    },
    {
      "metadata": {
        "id": "q7XHu6U0HVE9",
        "colab_type": "code",
        "colab": {
          "autoexec": {
            "startup": false,
            "wait_interval": 0
          },
          "output_extras": [
            {
              "item_id": 1
            }
          ],
          "base_uri": "https://localhost:8080/",
          "height": 416
        },
        "outputId": "f388073a-a141-45da-e494-ee2ad680f490",
        "executionInfo": {
          "status": "ok",
          "timestamp": 1518307434727,
          "user_tz": 300,
          "elapsed": 576,
          "user": {
            "displayName": "Drew Wicke",
            "photoUrl": "//lh3.googleusercontent.com/-RMWS66RT7QY/AAAAAAAAAAI/AAAAAAAAA1M/SsUil6F7DOY/s50-c-k-no/photo.jpg",
            "userId": "108097971441173177746"
          }
        }
      },
      "cell_type": "code",
      "source": [
        "# now plot the heat map of the confusion matrix\n",
        "plt.figure()\n",
        "plot_confusion_matrix(myCM, classes=[\"1\",\"2\",\"3\",\"4\"])\n",
        "plt.show()"
      ],
      "execution_count": 92,
      "outputs": [
        {
          "output_type": "display_data",
          "data": {
            "image/png": "[encoded data removed]",
            "text/plain": [
              "<matplotlib.figure.Figure at 0x7fd596a99470>"
            ]
          },
          "metadata": {
            "tags": []
          }
        }
      ]
    },
    {
      "metadata": {
        "id": "eyYVY79_HgR8",
        "colab_type": "code",
        "colab": {
          "autoexec": {
            "startup": false,
            "wait_interval": 0
          }
        }
      },
      "cell_type": "code",
      "source": [
        "from keras import Sequential\n",
        "from keras.layers import Dense\n",
        "classifier = Sequential()\n",
        "\n",
        "# first do the input layer to the hidden (network is like 7 - 5 - 5 - 4)\n",
        "classifier.add(Dense(units = 5, activation = keras.layers.LeakyReLU(alpha=0.3), kernel_initializer = 'uniform',input_dim=7))\n",
        "classifier.add(Dense(units = 5, activation = keras.layers.LeakyReLU(alpha=0.3), kernel_initializer = 'uniform'))\n",
        "classifier.add(Dense(units = 4, activation = 'softmax', kernel_initializer = 'uniform'))\n",
        "\n",
        "classifier.compile(optimizer = 'adam', loss = 'categorical_crossentropy', metrics = ['accuracy'])\n",
        "\n",
        "classifier.fit(X_train, y_train, batch_size = 10, epochs = 100)\n",
        "#y_train\n",
        "\n",
        "# Predicting the Test set results\n",
        "y_pred = classifier.predict(X_test)\n",
        "\n",
        "#y_pred = (y_pred > 0.5)\n",
        "from sklearn import preprocessing\n",
        "\n",
        "lb = preprocessing.LabelBinarizer()\n",
        "lb.fit([1,2,3,4])\n",
        "y_pred = lb.inverse_transform(y_pred)\n",
        "y_testlb = lb.inverse_transform(y_test)\n",
        "\n",
        "# Making the Confusion Matrix\n",
        "from sklearn.metrics import confusion_matrix\n",
        "myCM = confusion_matrix(y_testlb, y_pred) \n",
        "myCM\n",
        "\n",
        "# now plot the heat map of the confusion matrix\n",
        "plt.figure()\n",
        "plot_confusion_matrix(myCM, classes=[\"1\",\"2\",\"3\",\"4\"])\n",
        "plt.show()\n"
      ],
      "execution_count": 0,
      "outputs": []
    },
    {
      "metadata": {
        "id": "ET-ArmbaC6T7",
        "colab_type": "code",
        "colab": {
          "autoexec": {
            "startup": false,
            "wait_interval": 0
          },
          "output_extras": [
            {
              "item_id": 1
            }
          ],
          "base_uri": "https://localhost:8080/",
          "height": 89
        },
        "outputId": "ad38735c-35a3-4fbd-d5b7-f80c1ab422e3",
        "executionInfo": {
          "status": "ok",
          "timestamp": 1518557079930,
          "user_tz": 300,
          "elapsed": 374,
          "user": {
            "displayName": "Drew Wicke",
            "photoUrl": "//lh3.googleusercontent.com/-RMWS66RT7QY/AAAAAAAAAAI/AAAAAAAAA1M/SsUil6F7DOY/s50-c-k-no/photo.jpg",
            "userId": "108097971441173177746"
          }
        }
      },
      "cell_type": "code",
      "source": [
        "myCM"
      ],
      "execution_count": 7,
      "outputs": [
        {
          "output_type": "execute_result",
          "data": {
            "text/plain": [
              "array([[104,   0,   0,   0],\n",
              "       [  0,  93,   2,   0],\n",
              "       [  6,   8,  74,   0],\n",
              "       [ 14,   0,   0,  99]])"
            ]
          },
          "metadata": {
            "tags": []
          },
          "execution_count": 7
        }
      ]
    },
    {
      "metadata": {
        "id": "p7uql-uyDiez",
        "colab_type": "code",
        "colab": {
          "autoexec": {
            "startup": false,
            "wait_interval": 0
          }
        }
      },
      "cell_type": "code",
      "source": [
        "from keras import Sequential\n",
        "from keras.layers import Dense\n",
        "classifier = Sequential()\n",
        "\n",
        "# first do the input layer to the hidden (network is like 7 - 5 - 5 - 4)\n",
        "classifier.add(Dense(units = 5, activation = keras.layers.ELU(alpha=1.0), kernel_initializer = 'uniform',input_dim=7))\n",
        "classifier.add(Dense(units = 5, activation = keras.layers.LeakyReLU(alpha=0.3), kernel_initializer = 'uniform'))\n",
        "classifier.add(Dense(units = 4, activation = 'softmax', kernel_initializer = 'uniform'))\n",
        "\n",
        "classifier.compile(optimizer = 'adam', loss = 'categorical_crossentropy', metrics = ['accuracy'])\n",
        "\n",
        "classifier.fit(X_train, y_train, batch_size = 10, epochs = 100)\n",
        "#y_train\n",
        "\n",
        "# Predicting the Test set results\n",
        "y_pred = classifier.predict(X_test)\n",
        "\n",
        "#y_pred = (y_pred > 0.5)\n",
        "from sklearn import preprocessing\n",
        "\n",
        "lb = preprocessing.LabelBinarizer()\n",
        "lb.fit([1,2,3,4])\n",
        "y_pred = lb.inverse_transform(y_pred)\n",
        "y_testlb = lb.inverse_transform(y_test)\n",
        "\n",
        "# Making the Confusion Matrix\n",
        "from sklearn.metrics import confusion_matrix\n",
        "myCM = confusion_matrix(y_testlb, y_pred) \n",
        "myCM\n",
        "\n",
        "# now plot the heat map of the confusion matrix\n",
        "plt.figure()\n",
        "plot_confusion_matrix(myCM, classes=[\"1\",\"2\",\"3\",\"4\"])\n",
        "plt.show()"
      ],
      "execution_count": 0,
      "outputs": []
    },
    {
      "metadata": {
        "id": "9qEI9hWDFgGo",
        "colab_type": "code",
        "colab": {
          "autoexec": {
            "startup": false,
            "wait_interval": 0
          },
          "output_extras": [
            {
              "item_id": 1
            }
          ],
          "base_uri": "https://localhost:8080/",
          "height": 89
        },
        "outputId": "93892ee4-0eb9-4d89-980b-988a2699a693",
        "executionInfo": {
          "status": "ok",
          "timestamp": 1518557637188,
          "user_tz": 300,
          "elapsed": 397,
          "user": {
            "displayName": "Drew Wicke",
            "photoUrl": "//lh3.googleusercontent.com/-RMWS66RT7QY/AAAAAAAAAAI/AAAAAAAAA1M/SsUil6F7DOY/s50-c-k-no/photo.jpg",
            "userId": "108097971441173177746"
          }
        }
      },
      "cell_type": "code",
      "source": [
        "myCM\n"
      ],
      "execution_count": 9,
      "outputs": [
        {
          "output_type": "execute_result",
          "data": {
            "text/plain": [
              "array([[104,   0,   0,   0],\n",
              "       [  0,  90,   5,   0],\n",
              "       [  1,   1,  86,   0],\n",
              "       [  3,   0,   0, 110]])"
            ]
          },
          "metadata": {
            "tags": []
          },
          "execution_count": 9
        }
      ]
    },
    {
      "metadata": {
        "id": "d3JUisMSFqhp",
        "colab_type": "code",
        "colab": {
          "autoexec": {
            "startup": false,
            "wait_interval": 0
          }
        }
      },
      "cell_type": "code",
      "source": [
        "from keras import Sequential\n",
        "from keras.layers import Dense\n",
        "classifier = Sequential()\n",
        "\n",
        "# first do the input layer to the hidden (network is like 7 - 5 - 5 - 4)\n",
        "classifier.add(Dense(units = 5, activation = keras.layers.LeakyReLU(alpha=0.3), kernel_initializer = 'uniform',input_dim=7))\n",
        "classifier.add(Dense(units = 5, activation = keras.layers.ELU(alpha=0.3), kernel_initializer = 'uniform'))\n",
        "classifier.add(Dense(units = 4, activation = 'softmax', kernel_initializer = 'uniform'))\n",
        "\n",
        "classifier.compile(optimizer = 'adam', loss = 'categorical_crossentropy', metrics = ['accuracy'])\n",
        "\n",
        "classifier.fit(X_train, y_train, batch_size = 10, epochs = 100)\n",
        "#y_train\n",
        "\n",
        "# Predicting the Test set results\n",
        "y_pred = classifier.predict(X_test)\n",
        "\n",
        "#y_pred = (y_pred > 0.5)\n",
        "from sklearn import preprocessing\n",
        "\n",
        "lb = preprocessing.LabelBinarizer()\n",
        "lb.fit([1,2,3,4])\n",
        "y_pred = lb.inverse_transform(y_pred)\n",
        "y_testlb = lb.inverse_transform(y_test)\n",
        "\n",
        "# Making the Confusion Matrix\n",
        "from sklearn.metrics import confusion_matrix\n",
        "myCM = confusion_matrix(y_testlb, y_pred) \n",
        "myCM\n",
        "\n",
        "# now plot the heat map of the confusion matrix\n",
        "plt.figure()\n",
        "plot_confusion_matrix(myCM, classes=[\"1\",\"2\",\"3\",\"4\"])\n",
        "plt.show()"
      ],
      "execution_count": 0,
      "outputs": []
    },
    {
      "metadata": {
        "id": "kJ5a9RqeF8KN",
        "colab_type": "code",
        "colab": {
          "autoexec": {
            "startup": false,
            "wait_interval": 0
          },
          "output_extras": [
            {
              "item_id": 1
            }
          ],
          "base_uri": "https://localhost:8080/",
          "height": 89
        },
        "outputId": "16cfd765-6751-45ff-c006-f1c826fdd4bf",
        "executionInfo": {
          "status": "ok",
          "timestamp": 1518558532028,
          "user_tz": 300,
          "elapsed": 279,
          "user": {
            "displayName": "Drew Wicke",
            "photoUrl": "//lh3.googleusercontent.com/-RMWS66RT7QY/AAAAAAAAAAI/AAAAAAAAA1M/SsUil6F7DOY/s50-c-k-no/photo.jpg",
            "userId": "108097971441173177746"
          }
        }
      },
      "cell_type": "code",
      "source": [
        "myCM"
      ],
      "execution_count": 23,
      "outputs": [
        {
          "output_type": "execute_result",
          "data": {
            "text/plain": [
              "array([[ 99,   0,   3,   2],\n",
              "       [  0,  87,   8,   0],\n",
              "       [  0,   1,  87,   0],\n",
              "       [  0,   0,   0, 113]])"
            ]
          },
          "metadata": {
            "tags": []
          },
          "execution_count": 23
        }
      ]
    },
    {
      "metadata": {
        "id": "x2912t9NGHk0",
        "colab_type": "code",
        "colab": {
          "autoexec": {
            "startup": false,
            "wait_interval": 0
          },
          "output_extras": [
            {
              "item_id": 1
            }
          ],
          "base_uri": "https://localhost:8080/",
          "height": 89
        },
        "outputId": "26f34700-f6f9-45c1-fde5-e84b905264df",
        "executionInfo": {
          "status": "ok",
          "timestamp": 1518559409399,
          "user_tz": 300,
          "elapsed": 302,
          "user": {
            "displayName": "Drew Wicke",
            "photoUrl": "//lh3.googleusercontent.com/-RMWS66RT7QY/AAAAAAAAAAI/AAAAAAAAA1M/SsUil6F7DOY/s50-c-k-no/photo.jpg",
            "userId": "108097971441173177746"
          }
        }
      },
      "cell_type": "code",
      "source": [
        "from sklearn.ensemble import GradientBoostingClassifier\n",
        "\n",
        "from sklearn import preprocessing\n",
        "\n",
        "lb = preprocessing.LabelBinarizer()\n",
        "lb.fit([1,2,3,4])\n",
        "# y_train = lb.inverse_transform(y_train)\n",
        "# y_test = lb.inverse_transform(y_test)\n",
        "\n",
        "\n",
        "clf = GradientBoostingClassifier(n_estimators=10, learning_rate=1.0, max_depth=2, random_state=0).fit(X_train, y_train)\n",
        "y_pred = clf.predict(X_test)\n",
        "\n",
        "from sklearn.metrics import confusion_matrix\n",
        "myCM = confusion_matrix(y_test, y_pred) \n",
        "myCM"
      ],
      "execution_count": 48,
      "outputs": [
        {
          "output_type": "execute_result",
          "data": {
            "text/plain": [
              "array([[103,   0,   0,   1],\n",
              "       [  0,  91,   4,   0],\n",
              "       [  0,   0,  88,   0],\n",
              "       [  1,   0,   0, 112]])"
            ]
          },
          "metadata": {
            "tags": []
          },
          "execution_count": 48
        }
      ]
    },
    {
      "metadata": {
        "id": "UD2cMh_eJNQo",
        "colab_type": "code",
        "colab": {
          "autoexec": {
            "startup": false,
            "wait_interval": 0
          },
          "output_extras": [
            {
              "item_id": 1
            }
          ],
          "base_uri": "https://localhost:8080/",
          "height": 89
        },
        "outputId": "b51a39ee-a40c-4ff6-e2f7-274e1fb693ec",
        "executionInfo": {
          "status": "ok",
          "timestamp": 1518559650773,
          "user_tz": 300,
          "elapsed": 302,
          "user": {
            "displayName": "Drew Wicke",
            "photoUrl": "//lh3.googleusercontent.com/-RMWS66RT7QY/AAAAAAAAAAI/AAAAAAAAA1M/SsUil6F7DOY/s50-c-k-no/photo.jpg",
            "userId": "108097971441173177746"
          }
        }
      },
      "cell_type": "code",
      "source": [
        "from sklearn.ensemble import RandomForestClassifier\n",
        "\n",
        "clf = RandomForestClassifier(n_estimators=20,random_state=2).fit(X_train, y_train)\n",
        "y_pred = clf.predict(X_test)\n",
        "\n",
        "from sklearn.metrics import confusion_matrix\n",
        "myCM = confusion_matrix(y_test, y_pred) \n",
        "myCM\n"
      ],
      "execution_count": 51,
      "outputs": [
        {
          "output_type": "execute_result",
          "data": {
            "text/plain": [
              "array([[104,   0,   0,   0],\n",
              "       [  0,  91,   4,   0],\n",
              "       [  1,   2,  85,   0],\n",
              "       [  1,   0,   0, 112]])"
            ]
          },
          "metadata": {
            "tags": []
          },
          "execution_count": 51
        }
      ]
    },
    {
      "metadata": {
        "id": "W4qRnQneNYpu",
        "colab_type": "text"
      },
      "cell_type": "markdown",
      "source": [
        "Ok, so it looks like I'm able to get better results using GradientBoostingClassifier than I am with a RandomForest or a ANN.  Now lets try SVM."
      ]
    },
    {
      "metadata": {
        "id": "m7lCF52yNh8X",
        "colab_type": "code",
        "colab": {
          "autoexec": {
            "startup": false,
            "wait_interval": 0
          },
          "output_extras": [
            {
              "item_id": 1
            }
          ],
          "base_uri": "https://localhost:8080/",
          "height": 89
        },
        "outputId": "ad9dc32b-d835-4e2e-cb87-a3fa00643548",
        "executionInfo": {
          "status": "ok",
          "timestamp": 1518559979021,
          "user_tz": 300,
          "elapsed": 602,
          "user": {
            "displayName": "Drew Wicke",
            "photoUrl": "//lh3.googleusercontent.com/-RMWS66RT7QY/AAAAAAAAAAI/AAAAAAAAA1M/SsUil6F7DOY/s50-c-k-no/photo.jpg",
            "userId": "108097971441173177746"
          }
        }
      },
      "cell_type": "code",
      "source": [
        "from sklearn.svm import SVC\n",
        "\n",
        "clf = SVC(C=1).fit(X_train, y_train)\n",
        "y_pred = clf.predict(X_test)\n",
        "\n",
        "from sklearn.metrics import confusion_matrix\n",
        "myCM = confusion_matrix(y_test, y_pred) \n",
        "myCM"
      ],
      "execution_count": 60,
      "outputs": [
        {
          "output_type": "execute_result",
          "data": {
            "text/plain": [
              "array([[71, 33,  0,  0],\n",
              "       [ 0, 93,  2,  0],\n",
              "       [ 0, 26, 62,  0],\n",
              "       [ 0, 40,  0, 73]])"
            ]
          },
          "metadata": {
            "tags": []
          },
          "execution_count": 60
        }
      ]
    },
    {
      "metadata": {
        "id": "DH6zIs3rPW6y",
        "colab_type": "code",
        "colab": {
          "autoexec": {
            "startup": false,
            "wait_interval": 0
          },
          "output_extras": [
            {
              "item_id": 1
            }
          ],
          "base_uri": "https://localhost:8080/",
          "height": 89
        },
        "outputId": "d073348c-12e8-4d21-bb1d-39ba219a361c",
        "executionInfo": {
          "status": "ok",
          "timestamp": 1518560499345,
          "user_tz": 300,
          "elapsed": 426,
          "user": {
            "displayName": "Drew Wicke",
            "photoUrl": "//lh3.googleusercontent.com/-RMWS66RT7QY/AAAAAAAAAAI/AAAAAAAAA1M/SsUil6F7DOY/s50-c-k-no/photo.jpg",
            "userId": "108097971441173177746"
          }
        }
      },
      "cell_type": "code",
      "source": [
        "from sklearn.svm import LinearSVC\n",
        "\n",
        "clf = LinearSVC(C=1.0, random_state=2).fit(X_train, y_train)\n",
        "y_pred = clf.predict(X_test)\n",
        "\n",
        "from sklearn.metrics import confusion_matrix\n",
        "myCM = confusion_matrix(y_test, y_pred) \n",
        "myCM"
      ],
      "execution_count": 72,
      "outputs": [
        {
          "output_type": "execute_result",
          "data": {
            "text/plain": [
              "array([[102,   0,   1,   1],\n",
              "       [  0,  90,   5,   0],\n",
              "       [  2,   4,  80,   2],\n",
              "       [  0,   0,   0, 113]])"
            ]
          },
          "metadata": {
            "tags": []
          },
          "execution_count": 72
        }
      ]
    },
    {
      "metadata": {
        "id": "TMx-dyo6Qn3w",
        "colab_type": "code",
        "colab": {
          "autoexec": {
            "startup": false,
            "wait_interval": 0
          },
          "output_extras": [
            {
              "item_id": 1
            }
          ],
          "base_uri": "https://localhost:8080/",
          "height": 89
        },
        "outputId": "962f7852-c110-46e3-d181-99226138f51a",
        "executionInfo": {
          "status": "ok",
          "timestamp": 1518560704229,
          "user_tz": 300,
          "elapsed": 336,
          "user": {
            "displayName": "Drew Wicke",
            "photoUrl": "//lh3.googleusercontent.com/-RMWS66RT7QY/AAAAAAAAAAI/AAAAAAAAA1M/SsUil6F7DOY/s50-c-k-no/photo.jpg",
            "userId": "108097971441173177746"
          }
        }
      },
      "cell_type": "code",
      "source": [
        "from sklearn.svm import NuSVC\n",
        "\n",
        "clf = NuSVC(nu=0.4,kernel='linear', random_state=2).fit(X_train, y_train)\n",
        "y_pred = clf.predict(X_test)\n",
        "\n",
        "from sklearn.metrics import confusion_matrix\n",
        "myCM = confusion_matrix(y_test, y_pred) \n",
        "myCM"
      ],
      "execution_count": 84,
      "outputs": [
        {
          "output_type": "execute_result",
          "data": {
            "text/plain": [
              "array([[104,   0,   0,   0],\n",
              "       [  0,  87,   8,   0],\n",
              "       [  0,   0,  88,   0],\n",
              "       [  1,   0,   0, 112]])"
            ]
          },
          "metadata": {
            "tags": []
          },
          "execution_count": 84
        }
      ]
    },
    {
      "metadata": {
        "id": "rHKaSKmnOspe",
        "colab_type": "text"
      },
      "cell_type": "markdown",
      "source": [
        "Well SVM also does better than NN, and what I'm seeing is that there is a linear relationship that is getting lost.  So, lets see about doing something different with the neural network then.  But first lets see about improving the results of Gradient Boost by doing some hyperparameter tuning.  Well, actually lets make sure RidgeRegression doesn't somehow do really good."
      ]
    },
    {
      "metadata": {
        "id": "xaX0Fb8hP0lf",
        "colab_type": "code",
        "colab": {
          "autoexec": {
            "startup": false,
            "wait_interval": 0
          },
          "output_extras": [
            {
              "item_id": 1
            }
          ],
          "base_uri": "https://localhost:8080/",
          "height": 89
        },
        "outputId": "0a04df9f-0161-4fed-b4ca-ee4c4afd971b",
        "executionInfo": {
          "status": "ok",
          "timestamp": 1518561787700,
          "user_tz": 300,
          "elapsed": 311,
          "user": {
            "displayName": "Drew Wicke",
            "photoUrl": "//lh3.googleusercontent.com/-RMWS66RT7QY/AAAAAAAAAAI/AAAAAAAAA1M/SsUil6F7DOY/s50-c-k-no/photo.jpg",
            "userId": "108097971441173177746"
          }
        }
      },
      "cell_type": "code",
      "source": [
        "from sklearn.linear_model import RidgeClassifier\n",
        "\n",
        "clf = RidgeClassifier(alpha=100,random_state=2).fit(X_train, y_train)\n",
        "y_pred = clf.predict(X_test)\n",
        "\n",
        "from sklearn.metrics import confusion_matrix\n",
        "myCM = confusion_matrix(y_test, y_pred) \n",
        "myCM\n"
      ],
      "execution_count": 95,
      "outputs": [
        {
          "output_type": "execute_result",
          "data": {
            "text/plain": [
              "array([[102,   0,   2,   0],\n",
              "       [  0,  90,   5,   0],\n",
              "       [  1,  21,  58,   8],\n",
              "       [  1,   0,   3, 109]])"
            ]
          },
          "metadata": {
            "tags": []
          },
          "execution_count": 95
        }
      ]
    },
    {
      "metadata": {
        "id": "Ckt-43QZW4Bi",
        "colab_type": "text"
      },
      "cell_type": "markdown",
      "source": [
        "Well, as we see the RidgeClassifier doesn't do very well at all.  So, moving on to hyperparameter tuning and seeing where that leaves us in this fun adventure."
      ]
    },
    {
      "metadata": {
        "id": "lISuUOCAU53Y",
        "colab_type": "code",
        "colab": {
          "autoexec": {
            "startup": false,
            "wait_interval": 0
          },
          "output_extras": [
            {
              "item_id": 1
            }
          ],
          "base_uri": "https://localhost:8080/",
          "height": 89
        },
        "outputId": "d499cbbc-b6a9-45e5-a3f8-eab67e4214a2",
        "executionInfo": {
          "status": "ok",
          "timestamp": 1518567794273,
          "user_tz": 300,
          "elapsed": 44570,
          "user": {
            "displayName": "Drew Wicke",
            "photoUrl": "//lh3.googleusercontent.com/-RMWS66RT7QY/AAAAAAAAAAI/AAAAAAAAA1M/SsUil6F7DOY/s50-c-k-no/photo.jpg",
            "userId": "108097971441173177746"
          }
        }
      },
      "cell_type": "code",
      "source": [
        "from sklearn.model_selection import RandomizedSearchCV\n",
        "from sklearn.ensemble import GradientBoostingClassifier\n",
        "from scipy.stats import randint, uniform\n",
        "gbc = GradientBoostingClassifier()\n",
        "\n",
        "clf = RandomizedSearchCV(estimator=gbc, param_distributions={'learning_rate':uniform, 'max_depth':randint(1,10)}, cv=10, n_iter=10, random_state=1).fit(X_train, y_train)\n",
        "\n",
        "y_pred = clf.predict(X_test)\n",
        "\n",
        "from sklearn.metrics import confusion_matrix\n",
        "myCM = confusion_matrix(y_test, y_pred) \n",
        "myCM"
      ],
      "execution_count": 114,
      "outputs": [
        {
          "output_type": "execute_result",
          "data": {
            "text/plain": [
              "array([[104,   0,   0,   0],\n",
              "       [  0,  90,   5,   0],\n",
              "       [  0,   0,  88,   0],\n",
              "       [  1,   0,   0, 112]])"
            ]
          },
          "metadata": {
            "tags": []
          },
          "execution_count": 114
        }
      ]
    },
    {
      "metadata": {
        "id": "DCQhCYsqae0m",
        "colab_type": "text"
      },
      "cell_type": "markdown",
      "source": [
        "Sooo, wow I was able to get an improvement to the the results by using hyperparameter tuning.  This is pretty cool, probably a good idea to do hyperparameter tuning rather than me guessing and testing a few parameters and deciding on one.  As the output below says the best learning_rate was .419 and max_depth = 3."
      ]
    },
    {
      "metadata": {
        "id": "sw0PyYL9ZGsm",
        "colab_type": "code",
        "colab": {
          "autoexec": {
            "startup": false,
            "wait_interval": 0
          },
          "output_extras": [
            {
              "item_id": 1
            }
          ],
          "base_uri": "https://localhost:8080/",
          "height": 35
        },
        "outputId": "35d111ad-28df-4767-c7b3-4caf681c8975",
        "executionInfo": {
          "status": "ok",
          "timestamp": 1518567865932,
          "user_tz": 300,
          "elapsed": 280,
          "user": {
            "displayName": "Drew Wicke",
            "photoUrl": "//lh3.googleusercontent.com/-RMWS66RT7QY/AAAAAAAAAAI/AAAAAAAAA1M/SsUil6F7DOY/s50-c-k-no/photo.jpg",
            "userId": "108097971441173177746"
          }
        }
      },
      "cell_type": "code",
      "source": [
        "clf.best_params_"
      ],
      "execution_count": 115,
      "outputs": [
        {
          "output_type": "execute_result",
          "data": {
            "text/plain": [
              "{'learning_rate': 0.4191945144032948, 'max_depth': 3}"
            ]
          },
          "metadata": {
            "tags": []
          },
          "execution_count": 115
        }
      ]
    },
    {
      "metadata": {
        "id": "sqRriFivc5_C",
        "colab_type": "code",
        "colab": {
          "autoexec": {
            "startup": false,
            "wait_interval": 0
          }
        }
      },
      "cell_type": "code",
      "source": [
        ""
      ],
      "execution_count": 0,
      "outputs": []
    },
    {
      "metadata": {
        "id": "k3iA8BrYfiIE",
        "colab_type": "text"
      },
      "cell_type": "markdown",
      "source": [
        "So, that is really cool! I have 99% classification accuracy with Gradient Boost using hyperparameter tuning.  This really works well.  So, I seem to have picked a dataset that maybe wasn't well suited to deep learning?  I'm not sure.  Maybe I did a poor job at tuning the neural network.  I should look into hyperparameter testing for keras.  I think  [hyperas](https://github.com/maxpumperla/hyperas) looks promising since I can even do a pip install.  Do note they list some common errors when running at the end of the README.md.  Probably better to stick with something that is more standard.  It looks like Keras has a Scikit-learn wrapper so that I can acutally just pass the model into RandomizedSearchCV from Scikit-learn and I can do hyperparameter testing that way. On Keras website here is the [documentation](https://keras.io/scikit-learn-api/) and here is an example of someone else who has done this to improve the accuracy [https://dzubo.github.io/machine-learning/2017/05/25/increasing-model-accuracy-by-tuning-parameters.html](https://dzubo.github.io/machine-learning/2017/05/25/increasing-model-accuracy-by-tuning-parameters.html)"
      ]
    },
    {
      "metadata": {
        "id": "JN341fq8frdn",
        "colab_type": "code",
        "colab": {
          "autoexec": {
            "startup": false,
            "wait_interval": 0
          }
        }
      },
      "cell_type": "code",
      "source": [
        ""
      ],
      "execution_count": 0,
      "outputs": []
    }
  ]
}